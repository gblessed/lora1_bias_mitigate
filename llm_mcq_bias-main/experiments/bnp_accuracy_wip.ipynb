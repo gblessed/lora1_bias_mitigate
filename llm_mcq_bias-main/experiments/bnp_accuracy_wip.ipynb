{
 "cells": [
  {
   "cell_type": "code",
   "execution_count": null,
   "metadata": {},
   "outputs": [],
   "source": [
    "from baselines.bnp_wip import (\n",
    "    ARCChallengeDataset, \n",
    "    Llama3_8B,\n",
    "    bias_vector_computation,\n",
    "    bias_node_pruning\n",
    ")"
   ]
  },
  {
   "cell_type": "code",
   "execution_count": null,
   "metadata": {},
   "outputs": [],
   "source": [
    "arc_ds = ARCChallengeDataset()\n",
    "model = Llama3_8B()"
   ]
  },
  {
   "cell_type": "code",
   "execution_count": null,
   "metadata": {},
   "outputs": [],
   "source": [
    "# compute bias vector\n",
    "bias_vector = bias_vector_computation(model, ds, k):"
   ]
  },
  {
   "cell_type": "code",
   "execution_count": null,
   "metadata": {},
   "outputs": [],
   "source": [
    "# Accuracy before bnp\n",
    "num_examples = 0\n",
    "num_correct = 0\n",
    "with torch.inference_mode():\n",
    "    model.eval()\n",
    "    for data in arc_ds.loader(split=\"test\", batch_size=1):\n",
    "        prompts = create_prompt(data)\n",
    "        answers = [p[1] for p in prompts]\n",
    "        preds = [model.get_answer(p[0]) for p in prompts]\n",
    "        for pred, ans in zip(preds, answers):\n",
    "            num_examples += 1\n",
    "            if pred == ans:\n",
    "                num_correct += 1\n",
    "        print(f\"\\rAccuracy: {num_correct/num_examples:.4f} | Num Examples: {num_examples} | Num Correct: {num_correct}\", end=\"\")"
   ]
  },
  {
   "cell_type": "code",
   "execution_count": null,
   "metadata": {},
   "outputs": [],
   "source": [
    "# perform bnp\n",
    "orig_weight = bias_node_pruning(model, bias_vector)"
   ]
  },
  {
   "cell_type": "code",
   "execution_count": null,
   "metadata": {},
   "outputs": [],
   "source": [
    "# Accuracy after bnp\n",
    "num_examples = 0\n",
    "num_correct = 0\n",
    "with torch.inference_mode():\n",
    "    model.eval()\n",
    "    for data in arc_ds.loader(split=\"test\", batch_size=1):\n",
    "        prompts = create_prompt(data)\n",
    "        answers = [p[1] for p in prompts]\n",
    "        preds = [model.get_answer(p[0]) for p in prompts]\n",
    "        for pred, ans in zip(preds, answers):\n",
    "            num_examples += 1\n",
    "            if pred == ans:\n",
    "                num_correct += 1\n",
    "        print(f\"\\rAccuracy: {num_correct/num_examples:.4f} | Num Examples: {num_examples} | Num Correct: {num_correct}\", end=\"\")"
   ]
  }
 ],
 "metadata": {
  "kernelspec": {
   "display_name": "pytorch",
   "language": "python",
   "name": "python3"
  },
  "language_info": {
   "codemirror_mode": {
    "name": "ipython",
    "version": 3
   },
   "file_extension": ".py",
   "mimetype": "text/x-python",
   "name": "python",
   "nbconvert_exporter": "python",
   "pygments_lexer": "ipython3",
   "version": "3.10.16"
  }
 },
 "nbformat": 4,
 "nbformat_minor": 2
}
