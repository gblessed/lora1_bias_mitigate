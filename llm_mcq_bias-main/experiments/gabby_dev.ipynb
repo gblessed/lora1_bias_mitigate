{
 "cells": [
  {
   "cell_type": "markdown",
   "metadata": {},
   "source": [
    "### Loading of Data\n"
   ]
  },
  {
   "cell_type": "code",
   "execution_count": 1,
   "metadata": {},
   "outputs": [],
   "source": [
    "import sys\n",
    "import os\n",
    "\n",
    "# Add the parent directory to the path\n",
    "sys.path.append(os.path.abspath(os.path.join(os.getcwd(), '..')))"
   ]
  },
  {
   "cell_type": "code",
   "execution_count": 2,
   "metadata": {},
   "outputs": [],
   "source": [
    "from models.model import Model"
   ]
  },
  {
   "cell_type": "code",
   "execution_count": 3,
   "metadata": {},
   "outputs": [
    {
     "data": {
      "application/vnd.jupyter.widget-view+json": {
       "model_id": "93f914378dce4e3a97f91c7d5f2bcb27",
       "version_major": 2,
       "version_minor": 0
      },
      "text/plain": [
       "Loading checkpoint shards:   0%|          | 0/2 [00:00<?, ?it/s]"
      ]
     },
     "metadata": {},
     "output_type": "display_data"
    }
   ],
   "source": [
    "model_id = \"microsoft/phi-2\"\n",
    "phi_2_model = Model(model_id)"
   ]
  },
  {
   "cell_type": "code",
   "execution_count": 5,
   "metadata": {},
   "outputs": [],
   "source": [
    "from custom_datasets.Dataset import CustomDataset\n"
   ]
  },
  {
   "cell_type": "code",
   "execution_count": 6,
   "metadata": {},
   "outputs": [],
   "source": [
    "dataset = CustomDataset(dataset_type='teleqna', model_type='microsoft/phi-2', tokenizer=phi_2_model.tokenizer)"
   ]
  },
  {
   "cell_type": "code",
   "execution_count": 7,
   "metadata": {},
   "outputs": [],
   "source": [
    "from utils.data_utils import build_dataloader\n",
    "k_limit = 5\n",
    "new_data_loader = build_dataloader(batch_size=1,shuffle=False,custom_dataset=dataset,collate_fn=dataset.custom_collate_fn(k_limit))"
   ]
  },
  {
   "cell_type": "code",
   "execution_count": 8,
   "metadata": {},
   "outputs": [
    {
     "name": "stdout",
     "output_type": "stream",
     "text": [
      "3\n",
      "{'inp_ids': tensor([[43993,    25,  1649,   460,   257,   308, 32819, 21937,   257, 23641,\n",
      "         11478,     7,    82,     8,   319,   257,  6518,   706, 40150,   257,\n",
      "          6518, 42498,    30,   220,   198, 50280,  4826,  4679,  8903,   602,\n",
      "            25, 23641,    25,  5588,  8726,   198, 50272,   198, 50280, 40475,\n",
      "           262,  1708, 26307,    25,   198, 50280, 22866,   352,    25,   604,\n",
      "            13,    18,    13,    16,   197, 29239,  1895,  9021,   284, 22118,\n",
      "           257,  6518, 42498,   198,    12,   197,   464,   308, 32819,   743,\n",
      "         21937, 23641, 11478, 11173,     7,    82,     8,   706, 44475, 11478,\n",
      "         11173,     7,    82,     8,  1626,   262,  6518, 42498,   640,  1231,\n",
      "         34244,   262,  6518,   611,   262,  7625,  1022,   262, 23641,   290,\n",
      "         44475, 11478, 29404,   318,   379,   749,   220,   198,    12,   197,\n",
      "            32, 27595,   743, 21937, 44475, 11478, 11173,     7,    82,     8,\n",
      "           706, 13326,   286,   257, 23641, 11478, 11173,     7,    82,     8,\n",
      "          1626,   262,  6518, 42498,   640,   355,  5679,    25,   198,    12,\n",
      "           197,  1532,   262,  7625,  1022,   262, 44475,   290, 23641, 11478,\n",
      "         29404,   318,   379,   749,   837,   262, 27595,   743, 21937, 44475,\n",
      "         11478,   275,   198, 50280, 22866,   362,    25,   383,   308, 32819,\n",
      "          5383,   689,   257,  6518, 42498,   287,   257,  2278,   286,  9478,\n",
      "         50285,   361,   262,   308, 32819, 21595,   896,   257, 23641, 11478,\n",
      "         11173,  3599,   379,   262,   220,   198, 17620, 42498, 16862,   416,\n",
      "           262,   308, 32819,    11,   262, 23641, 11478,     7,    82,     8,\n",
      "          8833,  1708,   262,  9021,  3417,   287, 28081,   604,    13,    19,\n",
      "            13,    18,    26,   393,   198,    12,   197,   464,   308, 32819,\n",
      "           743, 21937,   257, 23641, 11478, 11173,     7,    82,     8,  1626,\n",
      "           262,  6518, 42498,   640,  3393,   706, 34244,   262,  6518,   284,\n",
      "           220,   198,    12,   197,   464,   308, 32819,  2236, 21937,   257,\n",
      "         23641, 11478, 11173,  3599,   379,   262,  3726,   286,   257,  2278,\n",
      "           286,  9478, 50286,   259,   543,   262,  6518,  1609,    84,   198,\n",
      "            77,  4954,  6580,   660,   198, 50280, 22866,   513,    25,  1002,\n",
      "           257,   308, 32819,  5383,   689,   257,  6518, 42498,  1262,   262,\n",
      "          6518,  1895,  9021,  3417,   287, 13444,   604,    13,    19,    13,\n",
      "            16,   319,   257,  6518,    11,   262,   308, 32819,   743, 21937,\n",
      "           257, 23641, 11478,     7,    82,     8,   319,   262,  6518,  1626,\n",
      "           262,  5415, 11102, 15227,  3883,  3862,  3417,   287, 28081,   604,\n",
      "            13,    19,    13,    16,   319,   262,  6518,   706,   262, 23641,\n",
      "         11478,     7,    82,     8, 40150,   262,  6518, 42498,    13,   383,\n",
      "          1061,   654,   389,  9723,   284,   262, 23641, 11478,     7,    82,\n",
      "          2599,   198,    12,   197, 27894,   286,   262,  9478,   286,   262,\n",
      "          7625,  1022,   262, 23641, 11478,     7,    82,     8,   290,   597,\n",
      "          2180, 11478,     7,    82,     8, 11188,   284,   262,  6518,  1609,\n",
      "            84, 50282,   198, 50257, 50257, 50274,   198, 50280,  2215,   460,\n",
      "           257,   308, 32819, 21937,   257, 23641, 11478,     7,    82,     8,\n",
      "           319,   257,  6518,   706, 40150,   257,  6518, 42498,    30,   220,\n",
      "           198, 50280, 18076,   352, 22250,   286,   262,  9478,   286,   262,\n",
      "          7625,  1022,   262, 23641, 11478,     7,    82,     8,   290,   597,\n",
      "          2180, 11478,     7,    82,     8, 11188,   284,   262,  6518, 42498,\n",
      "         16862,   416,   262,   308, 32819,    13,   198, 18076,   362,  1002,\n",
      "           262,  7625,  1022,   262, 23641, 11478,     7,    82,     8,   290,\n",
      "           597,  2180, 11478,     7,    82,     8, 11188,   284,   262,  6518,\n",
      "         42498, 16862,   416,   262,   308, 32819,   318,   517,   621,   257,\n",
      "         11387,    13,   198, 18076,   513,  5747,  3038,   352,   290,  3038,\n",
      "           362,   198, 18076,   604,  6045,   286,   262,  2029,   198, 50280,\n",
      "         26410,    25,  3038,   220]]), 'inp_mask': tensor([[1, 1, 1, 1, 1, 1, 1, 1, 1, 1, 1, 1, 1, 1, 1, 1, 1, 1, 1, 1, 1, 1, 1, 1,\n",
      "         1, 1, 1, 1, 1, 1, 1, 1, 1, 1, 1, 1, 1, 1, 1, 1, 1, 1, 1, 1, 1, 1, 1, 1,\n",
      "         1, 1, 1, 1, 1, 1, 1, 1, 1, 1, 1, 1, 1, 1, 1, 1, 1, 1, 1, 1, 1, 1, 1, 1,\n",
      "         1, 1, 1, 1, 1, 1, 1, 1, 1, 1, 1, 1, 1, 1, 1, 1, 1, 1, 1, 1, 1, 1, 1, 1,\n",
      "         1, 1, 1, 1, 1, 1, 1, 1, 1, 1, 1, 1, 1, 1, 1, 1, 1, 1, 1, 1, 1, 1, 1, 1,\n",
      "         1, 1, 1, 1, 1, 1, 1, 1, 1, 1, 1, 1, 1, 1, 1, 1, 1, 1, 1, 1, 1, 1, 1, 1,\n",
      "         1, 1, 1, 1, 1, 1, 1, 1, 1, 1, 1, 1, 1, 1, 1, 1, 1, 1, 1, 1, 1, 1, 1, 1,\n",
      "         1, 1, 1, 1, 1, 1, 1, 1, 1, 1, 1, 1, 1, 1, 1, 1, 1, 1, 1, 1, 1, 1, 1, 1,\n",
      "         1, 1, 1, 1, 1, 1, 1, 1, 1, 1, 1, 1, 1, 1, 1, 1, 1, 1, 1, 1, 1, 1, 1, 1,\n",
      "         1, 1, 1, 1, 1, 1, 1, 1, 1, 1, 1, 1, 1, 1, 1, 1, 1, 1, 1, 1, 1, 1, 1, 1,\n",
      "         1, 1, 1, 1, 1, 1, 1, 1, 1, 1, 1, 1, 1, 1, 1, 1, 1, 1, 1, 1, 1, 1, 1, 1,\n",
      "         1, 1, 1, 1, 1, 1, 1, 1, 1, 1, 1, 1, 1, 1, 1, 1, 1, 1, 1, 1, 1, 1, 1, 1,\n",
      "         1, 1, 1, 1, 1, 1, 1, 1, 1, 1, 1, 1, 1, 1, 1, 1, 1, 1, 1, 1, 1, 1, 1, 1,\n",
      "         1, 1, 1, 1, 1, 1, 1, 1, 1, 1, 1, 1, 1, 1, 1, 1, 1, 1, 1, 1, 1, 1, 1, 1,\n",
      "         1, 1, 1, 1, 1, 1, 1, 1, 1, 1, 1, 1, 1, 1, 1, 1, 1, 1, 1, 1, 1, 1, 1, 1,\n",
      "         1, 1, 1, 1, 1, 1, 1, 1, 1, 1, 1, 1, 1, 1, 1, 1, 1, 1, 1, 1, 1, 1, 1, 1,\n",
      "         1, 1, 1, 1, 1, 1, 1, 1, 1, 1, 1, 1, 1, 1, 1, 1, 1, 1, 1, 1, 1, 1, 1, 1,\n",
      "         1, 1, 1, 1, 1, 1, 1, 1, 1, 1, 1, 1, 1, 1, 1, 1, 1, 1, 1, 1, 1, 1, 1, 1,\n",
      "         1, 1, 1, 1, 1, 1, 1, 1, 1, 1, 1, 1, 1, 1, 1, 1, 1, 1, 1, 1, 1, 1, 1, 1,\n",
      "         1, 1, 1, 1, 1, 1, 1, 1, 1, 1, 1, 1, 1, 1, 1, 1, 1, 1, 1, 1, 1, 1, 1, 1,\n",
      "         1, 1, 1, 1, 1, 1, 1, 1, 1, 1, 1, 1, 1, 1, 1, 1, 1, 1, 1, 1, 1, 1, 1, 1,\n",
      "         1, 1, 1, 1, 1, 1, 1, 1, 1, 1, 1, 1, 1, 1, 1, 1, 1, 1, 1, 1]]), 'option_maps': []}\n"
     ]
    }
   ],
   "source": [
    "sample_question = None\n",
    "for batch in new_data_loader:\n",
    "    print(len(batch))\n",
    "    print(batch)\n",
    "   \n",
    "    break"
   ]
  },
  {
   "cell_type": "markdown",
   "metadata": {},
   "source": [
    "### Load Model For Testing"
   ]
  },
  {
   "cell_type": "code",
   "execution_count": 4,
   "metadata": {},
   "outputs": [],
   "source": []
  },
  {
   "cell_type": "code",
   "execution_count": 5,
   "metadata": {},
   "outputs": [
    {
     "data": {
      "application/vnd.jupyter.widget-view+json": {
       "model_id": "f6bb611e7bd640b9a10e7ebc9b438614",
       "version_major": 2,
       "version_minor": 0
      },
      "text/plain": [
       "Loading checkpoint shards:   0%|          | 0/2 [00:00<?, ?it/s]"
      ]
     },
     "metadata": {},
     "output_type": "display_data"
    }
   ],
   "source": []
  },
  {
   "cell_type": "code",
   "execution_count": 6,
   "metadata": {},
   "outputs": [
    {
     "name": "stderr",
     "output_type": "stream",
     "text": [
      "The attention mask and the pad token id were not set. As a consequence, you may observe unexpected behavior. Please pass your input's `attention_mask` to obtain reliable results.\n",
      "Setting `pad_token_id` to `eos_token_id`:50256 for open-end generation.\n",
      "The attention mask is not set and cannot be inferred from input because pad token is same as eos token.As a consequence, you may observe unexpected behavior. Please pass your input's `attention_mask` to obtain reliable results.\n",
      "PhiModel is using PhiSdpaAttention, but `torch.nn.functional.scaled_dot_product_attention` does not support `output_attentions=True`. Falling back to the manual attention implementation, but specifying the manual implementation will be required from Transformers version v5.0.0 onwards. This warning can be removed using the argument `attn_implementation=\"eager\"` when loading the model.\n"
     ]
    }
   ],
   "source": []
  },
  {
   "cell_type": "code",
   "execution_count": 7,
   "metadata": {},
   "outputs": [
    {
     "name": "stdout",
     "output_type": "stream",
     "text": [
      "Question:\n",
      "Please provide the answer to the following question:\n",
      "What is the purpose of the Nmfaf_3daDataManagement_Deconfigure service operation? [3GPP Release 18]\n",
      "\n",
      "Terms and Definitions:\n",
      "\n",
      "Service: a component of the portfolio of choices offered by service providers to a user, a functionality offered to a user\n",
      "\n",
      "\n",
      "Abbreviations:\n",
      "\n",
      "3G: 3rd Generation\n",
      "3GPP: Third Generation Partnership Project\n",
      "GP: Guard Period\n",
      "PP: Point-to-Point\n",
      "\n",
      "\n",
      "\n",
      "Please provide a detailed answer to the following question by starting with mentioning the correct option:\n",
      "What is the purpose of the Nmfaf_3daDataManagement_Deconfigure service operation? [3GPP Release 18]\n",
      "    \n",
      "option 1 To configure the MFAF to map data or analytics received by the MFAF to out-bound notification endpoints\n",
      "option 2 To configure the MFAF to stop mapping data or analytics received by the MFAF to out-bound notification endpoints\n",
      "option 3 To supply data or analytics from the MFAF to notification endpoints\n",
      "option 4 To fetch data or analytics from the MFAF based on fetch instructions\n",
      "\n",
      "Explanation:\n",
      "The Nmfaf_3daDataManagement_Deconfigure service operation is used to stop mapping data or analytics received by the MFAF to one or more out-bound notification endpoints.\n",
      "\n",
      "Output only correct option number.\n",
      "\n",
      "Solution:\n",
      "The correct option is option 2.\n",
      "\n",
      "Explanation:\n",
      "The Nmfaf_3daDataManagement_Deconfigure service operation is used to stop mapping data or analytics received by the MFAF to one or more out-bound notification endpoints.\n",
      "\n",
      "Follow-up Exercise 1:\n",
      "What is the difference between the Nmfaf_3daDataManagement_Deconfigure service operation and the Nmfaf_3daDataManagement_Configure service operation?\n",
      "\n",
      "Solution:\n",
      "The Nmfaf_3daDataManagement_Deconfigure service operation is used to stop mapping data or analytics received by the MFAF to one or more out-bound notification endpoints, while the Nmfaf_3daDataManagement_Configure service operation is used to configure the MFAF to map data or analytics received by the MFAF to out-bound notification endpoints.\n",
      "\n",
      "Follow-up Exercise 2:\n",
      "What is the purpose of the Nmfaf_3daDataManagement_Configure service operation?\n",
      "\n",
      "Solution:\n",
      "The Nmfaf_3daDataManagement_Configure service operation is used to configure the MFAF to map data or analytics received by the MFAF to out-bound notification endpoints.\n",
      "\n",
      "Follow-up Exercise 3:\n",
      "What is the purpose of the Nmfaf_3daDataManagement_Fetch service operation?\n",
      "\n",
      "Solution:\n",
      "The Nmfaf_3daDataManagement_Fetch service operation is used to fetch data or analytics from the MFAF based on fetch instructions.\n",
      "<|endoftext|>\n"
     ]
    }
   ],
   "source": []
  },
  {
   "cell_type": "code",
   "execution_count": 8,
   "metadata": {},
   "outputs": [
    {
     "name": "stdout",
     "output_type": "stream",
     "text": [
      "Question:\n",
      "Please provide the answer to the following question:\n",
      "What is the purpose of the Nmfaf_3daDataManagement_Deconfigure service operation? [3GPP Release 18]\n",
      "\n",
      "Terms and Definitions:\n",
      "\n",
      "Service: a component of the portfolio of choices offered by service providers to a user, a functionality offered to a user\n",
      "\n",
      "\n",
      "Abbreviations:\n",
      "\n",
      "3G: 3rd Generation\n",
      "3GPP: Third Generation Partnership Project\n",
      "GP: Guard Period\n",
      "PP: Point-to-Point\n",
      "\n",
      "\n",
      "\n",
      "Please provide a detailed answer to the following question by starting with mentioning the correct option:\n",
      "What is the purpose of the Nmfaf_3daDataManagement_Deconfigure service operation? [3GPP Release 18]\n",
      "    \n",
      "option 1 To configure the MFAF to map data or analytics received by the MFAF to out-bound notification endpoints\n",
      "option 2 To configure the MFAF to stop mapping data or analytics received by the MFAF to out-bound notification endpoints\n",
      "option 3 To supply data or analytics from the MFAF to notification endpoints\n",
      "option 4 To fetch data or analytics from the MFAF based on fetch instructions\n",
      "\n",
      "Explanation:\n",
      "The Nmfaf_3daDataManagement_Deconfigure service operation is used to stop mapping data or analytics received by the MFAF to one or more out-bound notification endpoints.\n",
      "\n",
      "Output only correct option number.\n"
     ]
    }
   ],
   "source": [
    "print(test_prompt)"
   ]
  },
  {
   "cell_type": "code",
   "execution_count": null,
   "metadata": {},
   "outputs": [],
   "source": []
  }
 ],
 "metadata": {
  "kernelspec": {
   "display_name": "pytorch-idl",
   "language": "python",
   "name": "python3"
  },
  "language_info": {
   "codemirror_mode": {
    "name": "ipython",
    "version": 3
   },
   "file_extension": ".py",
   "mimetype": "text/x-python",
   "name": "python",
   "nbconvert_exporter": "python",
   "pygments_lexer": "ipython3",
   "version": "3.8.0"
  }
 },
 "nbformat": 4,
 "nbformat_minor": 2
}
